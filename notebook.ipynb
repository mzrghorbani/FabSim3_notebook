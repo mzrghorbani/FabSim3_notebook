{
 "cells": [
  {
   "cell_type": "markdown",
   "id": "3b7ed2eb-ec51-4e60-b87e-7a6c4186ead9",
   "metadata": {},
   "source": [
    "## Setting up and Running FabSim3 in Jupyter Notebook"
   ]
  },
  {
   "cell_type": "markdown",
   "id": "73d30ba1-b344-4568-a7df-8ea1ac976731",
   "metadata": {},
   "source": [
    "### 1- Clone FabSim3 from GitHub"
   ]
  },
  {
   "cell_type": "code",
   "execution_count": null,
   "id": "32dadf40-559b-4ddd-9da2-d7f511ef9f1e",
   "metadata": {},
   "outputs": [],
   "source": [
    "%%bash\n",
    "\n",
    "if [ ! -d \"FabSim3\" ]\n",
    "then\n",
    "    git clone https://github.com/djgroen/FabSim3\n",
    "    echo \"FabSim3 rep cloned in -> \" $PWD\n",
    "else\n",
    "    git -C FabSim3 pull\n",
    "    echo \"Updating FabSim3 repository cloned in -> \" $PWD\n",
    "fi"
   ]
  },
  {
   "cell_type": "markdown",
   "id": "fe045937-77d0-4fdf-af5c-2423c47834bb",
   "metadata": {},
   "source": [
    "### 2- Create and add SSH Key to authorized keys for SSH authentication"
   ]
  },
  {
   "cell_type": "code",
   "execution_count": null,
   "id": "5f356863-f7b0-4c68-9cae-afb24d52a166",
   "metadata": {},
   "outputs": [],
   "source": [
    "%%bash\n",
    "\n",
    "if [ ! -f ~/.ssh/id_rsa ]; then\n",
    "    ssh-keygen -t rsa -N \"\" -f ~/.ssh/id_rsa\n",
    "else\n",
    "    echo \"SSH key already exists\"\n",
    "fi\n",
    "cat ~/.ssh/id_rsa.pub >> ~/.ssh/authorized_keys\n",
    "chmod og-wx ~/.ssh/authorized_keys\n",
    "ssh-keyscan -H localhost >> ~/.ssh/known_hosts"
   ]
  },
  {
   "cell_type": "markdown",
   "id": "e52b2557-4084-4edb-8e2c-5fe8fdde9504",
   "metadata": {},
   "source": [
    "### 3- Install Python Dependencies for FabSim3"
   ]
  },
  {
   "cell_type": "code",
   "execution_count": null,
   "id": "4dd65f9a-fcd6-42fd-8e2e-7a109a112263",
   "metadata": {},
   "outputs": [],
   "source": [
    "pip install -r FabSim3/requirements.txt"
   ]
  },
  {
   "cell_type": "markdown",
   "id": "bea4d479-661a-4d88-8417-10ec06c03c6b",
   "metadata": {},
   "source": [
    "### 4- Configuring machine_user.yml file specific to a user (e.g., username and directories)"
   ]
  },
  {
   "cell_type": "code",
   "execution_count": null,
   "id": "7e42cc06-c2da-4797-b250-0bc33ad10c0d",
   "metadata": {},
   "outputs": [],
   "source": [
    "%%bash\n",
    "\n",
    "PORT=22\n",
    "\n",
    "# Configure machines_user.yml\n",
    "cp FabSim3/fabsim/deploy/machines_user_example.yml FabSim3/fabsim/deploy/machines_user.yml\n",
    "\n",
    "# Defines your username from local configuration\n",
    "sed -i \"s/your-username/`whoami`/g\" FabSim3/fabsim/deploy/machines_user.yml\n",
    "\n",
    "# Defines port number for localhost connection\n",
    "sed -i \"s#localhost:#localhost:\\n  port: $PORT#g\" FabSim3/fabsim/deploy/machines_user.yml\n",
    "\n",
    "# Defines working directory for configs and results directories\n",
    "sed -i \"s#localhost:#localhost:\\n  local_configs: \\\"$PWD/FabSim3/config_files\\\"#g\" FabSim3/fabsim/deploy/machines_user.yml\n",
    "sed -i \"s#localhost:#localhost:\\n  local_results: \\\"$PWD/FabSim3/results\\\"#g\" FabSim3/fabsim/deploy/machines_user.yml\n",
    "\n",
    "# Defines home path for execution\n",
    "sed -i \"s#localhost:#localhost:\\n  home_path_template: \\\"$PWD/FabSim3/localhost_exe\\\"#g\" FabSim3/fabsim/deploy/machines_user.yml"
   ]
  },
  {
   "cell_type": "markdown",
   "id": "79f42294-e117-4478-a5d1-f028d652039c",
   "metadata": {},
   "source": [
    "### 5- Addin FabSim3 to the System PATH and PYTHONPATH"
   ]
  },
  {
   "cell_type": "code",
   "execution_count": null,
   "id": "ad5a432c-c1c9-4246-a898-8fe20d6fc747",
   "metadata": {},
   "outputs": [],
   "source": [
    "import os\n",
    "import sys\n",
    "\n",
    "# print(os.environ['PATH'])\n",
    "sys.path.insert(0,  r'%s/FabSim3/fabsim/bin' %(os.getcwd()))\n",
    "sys.path.insert(0,  r'%s/FabSim3/fabsim' %(os.getcwd()))\n",
    "os.environ['PATH']=r'%s/FabSim3/fabsim/bin' %(os.getcwd())+os.pathsep+os.environ['PATH']\n",
    "\n",
    "# Test if fabsim command is availble\n",
    "!which fabsim"
   ]
  },
  {
   "cell_type": "markdown",
   "id": "666988e4-f6fe-40d2-9f0f-bf7c6f3fa413",
   "metadata": {},
   "source": [
    "## Test FabSim3 with Simple Plugin \"FabDummy\""
   ]
  },
  {
   "cell_type": "markdown",
   "id": "bec8232a-22aa-479b-9787-faff478aff1e",
   "metadata": {},
   "source": [
    "### 1- Install FabDummy Plugin"
   ]
  },
  {
   "cell_type": "code",
   "execution_count": null,
   "id": "cadac38b-f377-4607-9fdc-267448040811",
   "metadata": {},
   "outputs": [],
   "source": [
    "%%bash\n",
    "\n",
    "# Install FabDummy\n",
    "fabsim localhost install_plugin:FabDummy"
   ]
  },
  {
   "cell_type": "markdown",
   "id": "d5184b43-47d7-4467-a194-a3975c1c3775",
   "metadata": {},
   "source": [
    "### 2- Running FabDummy test"
   ]
  },
  {
   "cell_type": "code",
   "execution_count": null,
   "id": "1e3acde9-097f-4344-a834-f74433194531",
   "metadata": {},
   "outputs": [],
   "source": [
    "%%bash\n",
    "\n",
    "# Execute a dummy test job\n",
    "fabsim localhost dummy:dummy_test"
   ]
  },
  {
   "cell_type": "code",
   "execution_count": null,
   "id": "623f788b-1fbc-418e-8799-bdde460659ac",
   "metadata": {},
   "outputs": [],
   "source": [
    "%%bash\n",
    "\n",
    "fabsim localhost fetch_results"
   ]
  },
  {
   "cell_type": "code",
   "execution_count": null,
   "id": "244d8640-6e0d-4e11-bf99-9949cd086e5f",
   "metadata": {},
   "outputs": [],
   "source": [
    "ls $PWD/FabSim3/results/dummy_test_localhost_4"
   ]
  },
  {
   "cell_type": "markdown",
   "id": "fa5594ba-eac8-4879-8235-f853ddbba24b",
   "metadata": {},
   "source": [
    "## Cloning and Running Parallelized Flee Simulation using FabFlee Plugin"
   ]
  },
  {
   "cell_type": "markdown",
   "id": "50a624e3-d3ac-4255-a5fc-6138950b21f5",
   "metadata": {},
   "source": [
    "### Cloning FabFlee"
   ]
  },
  {
   "cell_type": "code",
   "execution_count": null,
   "id": "c0d9c408-0d2a-4a38-b39d-2471eaf18ad6",
   "metadata": {},
   "outputs": [],
   "source": [
    "%%bash\n",
    "\n",
    "# Install FabFlee \n",
    "fabsim localhost install_plugin:FabFlee"
   ]
  },
  {
   "cell_type": "markdown",
   "id": "3971cf1f-3cf9-413c-90b7-d3cd6205e995",
   "metadata": {},
   "source": [
    "### Install OpenMPI v5.0.5 (This process may take a long time). \n",
    "Alternatively, you can execute all installation commands in a bash terminal in notebook directory. \n",
    "The installation command is brocken down into four smaller commannds to avoid time-limit-reached issue on Jupyter Notebook!"
   ]
  },
  {
   "cell_type": "markdown",
   "id": "41bac56a-6600-43dc-9745-7c5d46446339",
   "metadata": {},
   "source": [
    "#### 1- Download and unpack OpenMPI 5.0.5"
   ]
  },
  {
   "cell_type": "code",
   "execution_count": null,
   "id": "f08aa1bb-1861-4e91-a416-be8c027f467c",
   "metadata": {},
   "outputs": [],
   "source": [
    "%%bash\n",
    "\n",
    "wget https://download.open-mpi.org/release/open-mpi/v5.0/openmpi-5.0.5.tar.gz\n",
    "tar -xzvf openmpi-5.0.5.tar.gz"
   ]
  },
  {
   "cell_type": "markdown",
   "id": "5dbcb7fe-30f7-4c2b-88ce-2d8e9e941cf4",
   "metadata": {},
   "source": [
    "#### 2- Configure Installation"
   ]
  },
  {
   "cell_type": "code",
   "execution_count": null,
   "id": "a43bec93-bd48-46cc-919b-6e31dc7ee1e5",
   "metadata": {},
   "outputs": [],
   "source": [
    "%%bash\n",
    "\n",
    "mkdir -p openmpi-5.0.5\n",
    "cd openmpi-5.0.5\n",
    "./configure --prefix=$PWD/openmpi-5.0.5 --enable-silent-rules --disable-dependency-tracking --disable-debug-symbols"
   ]
  },
  {
   "cell_type": "markdown",
   "id": "857f7168-d9f7-4500-9bc5-28267e671646",
   "metadata": {},
   "source": [
    "#### 3- Make Installation"
   ]
  },
  {
   "cell_type": "code",
   "execution_count": null,
   "id": "5fc8bf74-5df1-447d-a26b-19d20bb6c0cf",
   "metadata": {},
   "outputs": [],
   "source": [
    "%%bash\n",
    "\n",
    "cd openmpi-5.0.5\n",
    "\n",
    "make -j4"
   ]
  },
  {
   "cell_type": "markdown",
   "id": "293c65ba-01a6-4c8a-b356-c22a5d9b643b",
   "metadata": {},
   "source": [
    "#### 4- Installation"
   ]
  },
  {
   "cell_type": "code",
   "execution_count": null,
   "id": "67529f84-378b-4a5b-bc0a-daae548268d9",
   "metadata": {},
   "outputs": [],
   "source": [
    "%%bash\n",
    "\n",
    "cd openmpi-5.0.5\n",
    "\n",
    "make install"
   ]
  },
  {
   "cell_type": "markdown",
   "id": "f3c15506-d4da-4de6-ba0e-e50f4c5406b4",
   "metadata": {},
   "source": [
    "#### 5- Test Installation"
   ]
  },
  {
   "cell_type": "code",
   "execution_count": null,
   "id": "fc84e6ca-ba62-4c74-9a69-bc108974fcbc",
   "metadata": {},
   "outputs": [],
   "source": [
    "%%bash\n",
    "\n",
    "cd openmpi-5.0.5/openmpi-5.0.5/bin\n",
    "\n",
    "mpirun --help"
   ]
  },
  {
   "cell_type": "code",
   "execution_count": null,
   "id": "a166322e-2c36-4b1b-b138-ac22aded7cc4",
   "metadata": {},
   "outputs": [],
   "source": [
    "#### Setting System PATH and LD_LIBRARY_PATH and Installing mpi4py"
   ]
  },
  {
   "cell_type": "code",
   "execution_count": null,
   "id": "a617130e-6075-49fc-b82a-9b56f0549d30",
   "metadata": {},
   "outputs": [],
   "source": [
    "%%bash\n",
    "\n",
    "export PATH=$PATH:\"$PWD/openmpi-5.0.5/openmpi-5.0.5/bin\"\n",
    "\n",
    "export LD_LIBRARY_PATH=$LD_LIBRARY_PATH:\"$PWD/openmpi-5.0.5/openmpi-5.0.5/lib\"\n",
    "\n",
    "pip install --no-cache-dir mpi4py "
   ]
  },
  {
   "cell_type": "markdown",
   "id": "78b7c8fa-61ae-41b5-af07-a591288e7695",
   "metadata": {},
   "source": [
    "#### 6- Test MPI Code"
   ]
  },
  {
   "cell_type": "code",
   "execution_count": null,
   "id": "5c09a566-9194-4a29-a4c2-950389b4d977",
   "metadata": {},
   "outputs": [],
   "source": [
    "from mpi4py import MPI\n",
    "import subprocess\n",
    "import sys\n",
    "\n",
    "# Check and print the mpirun being used\n",
    "mpirun_path = subprocess.getoutput(\"which mpirun\")\n",
    "print(f\"mpirun is located at: {mpirun_path}\")\n",
    "\n",
    "# Check and print the MPICH version (assuming mpichversion is available)\n",
    "mpich_version = subprocess.getoutput(\"mpichversion\")\n",
    "print(f\"MPICH version: {mpich_version}\")\n",
    "\n",
    "# Additional simple MPI testfrom mpi4py import MPI\n",
    "comm = MPI.COMM_WORLD\n",
    "rank = comm.Get_rank()\n",
    "size = comm.Get_size()\n",
    "\n",
    "print(f\"Hello from process {rank} out of {size} processes\")"
   ]
  },
  {
   "cell_type": "markdown",
   "id": "1c1b63d7-2d4b-4386-8369-6b82a78c1b04",
   "metadata": {},
   "source": [
    "### Install FabFlee Plugin"
   ]
  },
  {
   "cell_type": "code",
   "execution_count": null,
   "id": "e6206440-c1e4-4e35-9002-018df84fca3e",
   "metadata": {},
   "outputs": [],
   "source": [
    "%%bash\n",
    "\n",
    "# Install FabFlee \n",
    "fabsim localhost install_plugin:FabFlee"
   ]
  },
  {
   "cell_type": "code",
   "execution_count": null,
   "id": "f23facec-063b-4a74-ba11-77b3f91cf180",
   "metadata": {},
   "outputs": [],
   "source": [
    "%%bash\n",
    "\n",
    "PORT=22\n",
    "\n",
    "# Configure machines_FabFlee_user.yml\n",
    "cp FabSim3/plugins/FabFlee/machines_FabFlee_user_example.yml FabSim3/plugins/FabFlee/machines_FabFlee_user.yml"
   ]
  },
  {
   "cell_type": "markdown",
   "id": "d04205a2-3ccd-48a0-a6e9-42f4d5ea7a66",
   "metadata": {},
   "source": [
    "### Modifying machine_user.yml file specific to archer2. Please set these variables before running the code."
   ]
  },
  {
   "cell_type": "code",
   "execution_count": null,
   "id": "b2dc1ec7-e4ff-4754-8bce-339ebfc19d0f",
   "metadata": {},
   "outputs": [],
   "source": [
    "ARCHER2_username = \"mzr123\"\n",
    "project_code = \"e723\"\n",
    "budget_code = \"e723-brunel\""
   ]
  },
  {
   "cell_type": "code",
   "execution_count": null,
   "id": "83e7ea82-b3db-4e2a-b5ce-765aba8da7cd",
   "metadata": {},
   "outputs": [],
   "source": [
    "import yaml\n",
    "\n",
    "# Path to the machines_user.yml file\n",
    "machines_user_path = os.path.join(\"FabSim3\", \"fabsim\", \"deploy\", \"machines_user.yml\")\n",
    "\n",
    "# Load the existing data\n",
    "with open(machines_user_path, 'r', encoding='utf-8') as file:\n",
    "    config = yaml.safe_load(file)\n",
    "\n",
    "# Update the archer2 section\n",
    "config['archer2'] = {\n",
    "    'username': f\"{ARCHER2_username}\",\n",
    "    'manual_ssh': True,\n",
    "    'flee_location': f\"/work/{project_code}/{project_code}/{ARCHER2_username}/flee\",\n",
    "    'remote': \"archer2\",\n",
    "    'project': f\"{project_code}\",\n",
    "    'budget': f\"{budget_code}\",\n",
    "    'job_wall_time': \"10:00:00\",\n",
    "    'run_prefix_commands': [f\"export PYTHONUSERBASE=/work/{project_code}/{project_code}/{ARCHER2_username}/.local\", \n",
    "                            \"export PATH=$PYTHONUSERBASE/bin:$PATH\", \n",
    "                            \"export PYTHONPATH=$PYTHONUSERBASE/lib/python3.8/site-packages:$PYTHONPATH\"]\n",
    "}\n",
    "\n",
    "# Write the updated data back to the file\n",
    "with open(machines_user_path, 'w', encoding='utf-8') as file:\n",
    "    yaml.safe_dump(config, file, default_flow_style=False, sort_keys=False)"
   ]
  },
  {
   "cell_type": "markdown",
   "id": "7cf2e241-2624-4e98-acbf-a0c717329334",
   "metadata": {},
   "source": [
    "#### Modifying machine_FabFlee_user.yml file specific to archer2. "
   ]
  },
  {
   "cell_type": "code",
   "execution_count": null,
   "id": "08420623-1b97-4f2d-9e84-d9021ec6b80a",
   "metadata": {},
   "outputs": [],
   "source": [
    "import yaml\n",
    "\n",
    "# Path to the machines_user.yml file\n",
    "machines_user_path = os.path.join(\"FabSim3\", \"plugins\", \"FabFlee\", \"machines_FabFlee_user.yml\")\n",
    "\n",
    "# Load the existing data\n",
    "with open(machines_user_path, 'r', encoding='utf-8') as file:\n",
    "    config = yaml.safe_load(file)\n",
    "\n",
    "# Update the archer2 section\n",
    "config['archer2'] = {\n",
    "    'username': f\"{ARCHER2_username}\",\n",
    "    'manual_ssh': True,\n",
    "    'flee_location': f\"/work/{project_code}/{project_code}/{ARCHER2_username}/flee\",\n",
    "    'remote': \"archer2\",\n",
    "    'project': f\"{project_code}\",\n",
    "    'budget': f\"{budget_code}\",\n",
    "    'job_wall_time': \"10:00:00\",\n",
    "    'run_prefix_commands': [f\"export PYTHONUSERBASE=/work/{project_code}/{project_code}/{ARCHER2_username}/.local\", \n",
    "                            \"export PATH=$PYTHONUSERBASE/bin:$PATH\", \n",
    "                            \"export PYTHONPATH=$PYTHONUSERBASE/lib/python3.8/site-packages:$PYTHONPATH\"]\n",
    "}\n",
    "\n",
    "# Write the updated data back to the file\n",
    "with open(machines_user_path, 'w', encoding='utf-8') as file:\n",
    "    yaml.safe_dump(config, file, default_flow_style=False, sort_keys=False)"
   ]
  },
  {
   "cell_type": "markdown",
   "id": "6056aff2-bc36-4d57-a040-93054b8915d9",
   "metadata": {},
   "source": [
    "### Cloning Flee Locally"
   ]
  },
  {
   "cell_type": "code",
   "execution_count": null,
   "id": "8e60868f-d676-40b4-a638-1b89c45dae0f",
   "metadata": {},
   "outputs": [],
   "source": [
    "%%bash\n",
    "\n",
    "git clone https://github.com/djgroen/flee.git"
   ]
  },
  {
   "cell_type": "markdown",
   "id": "a2dcc1d7-f41f-44c4-8f8d-0626d77a854b",
   "metadata": {},
   "source": [
    "### Cloning Flee Remotely (ARCHER2)"
   ]
  },
  {
   "cell_type": "code",
   "execution_count": null,
   "id": "088c001e-e479-44ed-9b23-907a02e87d0b",
   "metadata": {},
   "outputs": [],
   "source": [
    "import subprocess\n",
    "\n",
    "# Clean up the username by stripping any unwanted characters\n",
    "ARCHER2_username = ARCHER2_username.strip()\n",
    "\n",
    "# Construct the SSH command\n",
    "ssh_command = f'ssh {ARCHER2_username}@login.archer2.ac.uk \"cd /work/{project_code}/{project_code}/{ARCHER2_username} && if [ ! -d flee ]; then git clone https://github.com/djgroen/flee.git; else echo \\\"Repository already exists. Skipping clone.\\\"; fi\"'\n",
    "\n",
    "# Execute the command\n",
    "try:\n",
    "    result = subprocess.run(ssh_command, shell=True, capture_output=True, text=True)\n",
    "    print(result.stdout)\n",
    "    if result.returncode != 0:\n",
    "        print(f\"Error: {result.stderr}\")\n",
    "except Exception as e:\n",
    "    print(f\"SSH command failed: {str(e)}\")"
   ]
  },
  {
   "cell_type": "markdown",
   "id": "697d4148-7ba2-4316-aee1-5b3aa51a7474",
   "metadata": {},
   "source": [
    "### Setting flee installation location in FabFlee User File"
   ]
  },
  {
   "cell_type": "code",
   "execution_count": null,
   "id": "b4610d31-8539-4a8d-8e7b-6999e31aa3f8",
   "metadata": {},
   "outputs": [],
   "source": [
    "!sed -i  \"s#<PATH_TO_FLEE>#$PWD/flee#g\" FabSim3/plugins/FabFlee/machines_FabFlee_user.yml"
   ]
  },
  {
   "cell_type": "markdown",
   "id": "91c96b6c-4b9b-4172-9158-815724d3028a",
   "metadata": {},
   "source": [
    "### Running Flee Simulation Locally"
   ]
  },
  {
   "cell_type": "code",
   "execution_count": null,
   "id": "ae1ea02b-764b-40ed-a958-45e48d40a874",
   "metadata": {},
   "outputs": [],
   "source": [
    "%%bash\n",
    "\n",
    "fabsim localhost pflee:mali2022_2024,cores=4,simulation_period=1"
   ]
  },
  {
   "cell_type": "markdown",
   "id": "72b5c0d6-ac0c-483f-af92-c528eb34f622",
   "metadata": {},
   "source": [
    "### Running Flee Simulation Remotely\n",
    "To make authentication straightforward, please ssh to archer2 before executing jobs remotely. You can do this in a termainal by issuing command \"ssh <ARCHER2_username>@login.archer2.ac.uk\""
   ]
  },
  {
   "cell_type": "code",
   "execution_count": null,
   "id": "08991286-7db3-4fee-9ed5-b4b1b65f34ad",
   "metadata": {},
   "outputs": [],
   "source": [
    "%%bash\n",
    "\n",
    "fabsim archer2 pflee:mali2022_2024,cores=4,simulation_period=1"
   ]
  },
  {
   "cell_type": "markdown",
   "id": "213c5610-6314-4642-9bc4-9ce072f6d4f6",
   "metadata": {},
   "source": [
    "### Checking the status of the job"
   ]
  },
  {
   "cell_type": "code",
   "execution_count": null,
   "id": "00d21115-20d4-447d-8dc9-c73aafeae605",
   "metadata": {},
   "outputs": [],
   "source": [
    "%%bash \n",
    "\n",
    "fabsim archer2 stat"
   ]
  },
  {
   "cell_type": "code",
   "execution_count": null,
   "id": "abcc554e-635f-4f36-bd5b-1eb479fd565b",
   "metadata": {},
   "outputs": [],
   "source": []
  }
 ],
 "metadata": {
  "kernelspec": {
   "display_name": "Python 3 (ipykernel)",
   "language": "python",
   "name": "python3"
  },
  "language_info": {
   "codemirror_mode": {
    "name": "ipython",
    "version": 3
   },
   "file_extension": ".py",
   "mimetype": "text/x-python",
   "name": "python",
   "nbconvert_exporter": "python",
   "pygments_lexer": "ipython3",
   "version": "3.10.12"
  }
 },
 "nbformat": 4,
 "nbformat_minor": 5
}
